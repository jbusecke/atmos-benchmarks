{
 "cells": [
  {
   "cell_type": "code",
   "execution_count": null,
   "metadata": {},
   "outputs": [],
   "source": [
    "import os\n",
    "import re\n",
    "import numpy as np\n",
    "import proplot as plot"
   ]
  },
  {
   "cell_type": "code",
   "execution_count": null,
   "metadata": {},
   "outputs": [],
   "source": [
    "### Parse markdown tables\n",
    "# We still want markdown tables so user can look at stuff in more detail!\n",
    "benchmark = 'fluxes'\n",
    "dir_ = '60lev'\n",
    "file = f'logs/{benchmark}_{dir_}_uriah.log'\n",
    "with open(file, 'r') as f:\n",
    "    data = f.read()\n",
    "# Tables are formatted with leading and trailing columns divisors '|', ignore these; also ignore\n",
    "# trailing spaces and italics or bold asterisks in each cell, and the 2 header rows\n",
    "def sanitize(cell):\n",
    "    cell = cell.strip(' *')\n",
    "    regex = re.match('^([0-9.]+)([kKmMgG])?$', cell) # *optional* size parameter, test\n",
    "    if regex:\n",
    "        num, size = regex.groups()\n",
    "        mult = 1\n",
    "        if size:\n",
    "            mult = {'k':1e-3, 'g':1e3}.get(size.lower(), 1)\n",
    "        cell = float(num)*mult\n",
    "    return cell or None # replace empty string with None\n",
    "tables = [[[sanitize(cell) for cell in row.split('|')[1:-1]] for row in table.strip().split('\\n')[2:]]\n",
    "          for table in data.split('\\n\\n')]\n",
    "# Check tables\n",
    "# Change this as table format changes!\n",
    "cats = [row[2] for row in tables[0]]\n",
    "nlats = [int(table[0][0]) for table in tables]\n",
    "sizes = [table[0][1] for table in tables]\n",
    "for table in tables: # make sure each table has same categories as first one\n",
    "    if [row[2] for row in table] != cats:\n",
    "        raise ValueError('Inconsistent tables.')\n",
    "for i,vec in enumerate((nlats,sizes)): # make sure each table has same nlats, size in every row\n",
    "    for ivec,table in zip(vec,tables):\n",
    "        if any(ivec!=jvec for jvec in [row[i] for row in table]):\n",
    "            raise ValueError('Inconsistent tables.')\n",
    "# Plot data\n",
    "plot.rc.cycle = 'colorblind10'\n",
    "f, ax = plot.subplots(axwidth=3, aspect=(2,3), legend='b')\n",
    "# print(plot.rc['axes.prop_cycle'])\n",
    "hs = []\n",
    "nxarray = len([cat for cat in cats if 'xarray' in cat.lower()])\n",
    "xcolors = plot.colors('greys', nxarray, left=0.3)\n",
    "ocolors = [color for i,color in enumerate(plot.colors('colorblind10')) if i not in (5,6,7)]\n",
    "ic, xc = 0, 0 # make xarray lines different shades of same color\n",
    "idxs = np.argsort(cats) # use alphabetical order\n",
    "for i in idxs:\n",
    "    cat = cats[i]\n",
    "    if 'xarray' in cat.lower():\n",
    "        color = xcolors[xc]\n",
    "        xc += 1\n",
    "    else:\n",
    "        # color = f'C{ic}'\n",
    "        color = ocolors[ic]\n",
    "        ic += 1\n",
    "    times = [table[i][3] for table in tables] # 4th cell contains 'real' time\n",
    "    hs += ax.plot(sizes, times, color=color, marker='o', markersize=5, label=cat, lw=0.5)\n",
    "    # hs += [ax.scatter(sizes, times, color=[color], label=cat)]\n",
    "ax.format(xlabel='file size (MB)', ylabel='time (seconds)', gridminor=True,\n",
    "# ax.format(xlabel='latitude count', ylabel='time (seconds)',\n",
    "          ylim=(0.2, 150), yscale='log', yformatter='scalar',\n",
    "          xlim=(20, 5000), xscale='log', xformatter='scalar',\n",
    "          title=f'{benchmark.title()} benchmark')\n",
    "f.bpanel.legend(hs, ncols=2, order='F')\n",
    "f.save('fluxes.png')"
   ]
  }
 ],
 "metadata": {
  "kernelspec": {
   "display_name": "Python 3",
   "language": "python",
   "name": "python3"
  },
  "language_info": {
   "codemirror_mode": {
    "name": "ipython",
    "version": 3
   },
   "file_extension": ".py",
   "mimetype": "text/x-python",
   "name": "python",
   "nbconvert_exporter": "python",
   "pygments_lexer": "ipython3",
   "version": "3.6.4"
  },
  "toc": {
   "colors": {
    "hover_highlight": "#ece260",
    "navigate_num": "#000000",
    "navigate_text": "#000000",
    "running_highlight": "#FF0000",
    "selected_highlight": "#fff968",
    "sidebar_border": "#ffffff",
    "wrapper_background": "#ffffff"
   },
   "moveMenuLeft": false,
   "nav_menu": {
    "height": "0px",
    "width": "250px"
   },
   "navigate_menu": true,
   "number_sections": true,
   "sideBar": true,
   "threshold": 4,
   "toc_cell": false,
   "toc_section_display": "block",
   "toc_window_display": true,
   "widenNotebook": false
  }
 },
 "nbformat": 4,
 "nbformat_minor": 2
}
