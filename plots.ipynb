{
 "cells": [
  {
   "cell_type": "code",
   "execution_count": null,
   "metadata": {},
   "outputs": [],
   "source": [
    "import os\n",
    "import re\n",
    "import numpy as np\n",
    "import proplot as plot"
   ]
  },
  {
   "cell_type": "markdown",
   "metadata": {},
   "source": [
    "## Functions"
   ]
  },
  {
   "cell_type": "code",
   "execution_count": null,
   "metadata": {},
   "outputs": [],
   "source": [
    "def sanitize(cell):\n",
    "    cell = cell.strip(' *')\n",
    "    regex = re.match('^([0-9.]+)([kKmMgG])?$', cell) # *optional* size parameter, test\n",
    "    if regex:\n",
    "        num, size = regex.groups()\n",
    "        mult = 1\n",
    "        if size:\n",
    "            mult = {'k':1e-3, 'g':1e3}.get(size.lower(), 1)\n",
    "        cell = float(num)*mult\n",
    "    return cell or None # replace empty string with None\n",
    "def runtimes(name, dir_, server='uriah'):\n",
    "    file = f'logs/{name}_{dir_}_{server}.log'\n",
    "    with open(file, 'r') as f:\n",
    "        data = f.read()\n",
    "    # Tables are formatted with leading and trailing columns divisors '|', ignore these; also ignore\n",
    "    # trailing spaces and italics or bold asterisks in each cell, and the 2 header rows\n",
    "    tables = [[[sanitize(cell) for cell in row.split('|')[1:-1]] for row in table.strip().split('\\n')[2:]]\n",
    "              for table in data.split('\\n\\n') if table] # ignore \"empty\" tables, i.e. extra newlines\n",
    "    # print(tables)\n",
    "    # Check tables\n",
    "    # Change this as table format changes!\n",
    "    cats = [row[2] for row in tables[0]]\n",
    "    nlats = [int(table[0][0]) for table in tables]\n",
    "    sizes = [table[0][1] for table in tables]\n",
    "    for table in tables: # make sure each table has same categories as first one\n",
    "        if [row[2] for row in table] != cats:\n",
    "            raise ValueError('Inconsistent tables.')\n",
    "    for i,vec in enumerate((nlats,sizes)): # make sure each table has same nlats, size in every row\n",
    "        for ivec,table in zip(vec,tables):\n",
    "            if any(ivec!=jvec for jvec in [row[i] for row in table]):\n",
    "                raise ValueError('Inconsistent tables.')\n",
    "    return cats, nlats, sizes, tables"
   ]
  },
  {
   "cell_type": "code",
   "execution_count": null,
   "metadata": {},
   "outputs": [],
   "source": [
    "# We still want markdown tables so user can look at stuff in more detail!\n",
    "def benchmark(name, dir_, ncols=3, ymin=0.1, ymax=50, server='uriah'):\n",
    "    # Plot data\n",
    "    cats, nlats, sizes, tables = runtimes(name, dir_, server=server)\n",
    "    plot.rc.cycle = 'colorblind10'\n",
    "    server = {'uriah':'macbook', 'cheyenne4':'supercomputer', 'monde':'server'}.get(server, server)\n",
    "    f, axs = plot.subplots(axwidth=2.5, ncols=2, aspect=(2,3), legend='b', span=False, share=1)\n",
    "    nxarray = len([cat for cat in cats if 'xarray' in cat.lower()])\n",
    "    xcolors = plot.colors('greys', nxarray, left=0.3)\n",
    "    ocolors = [color for i,color in enumerate(plot.colors('colorblind10')) if i not in (5,7)]\n",
    "    idxs = np.argsort(cats) # use alphabetical order\n",
    "    for ax,scale in zip(axs,('linear','log')):\n",
    "        hs = []\n",
    "        ic, xc = 0, 0 # make xarray lines different shades of same color\n",
    "        for i in idxs:\n",
    "            cat = cats[i]\n",
    "            if 'xarray' in cat.lower():\n",
    "                color = xcolors[xc]\n",
    "                xc += 1\n",
    "            else:\n",
    "                # color = f'C{ic}'\n",
    "                color = ocolors[ic]\n",
    "                ic += 1\n",
    "            times = [table[i][3] for table in tables] # 4th cell contains 'real' time\n",
    "            hs += ax.plot(sizes, times, color=color, marker='o', markersize=6, label=cat, lw=1)\n",
    "            # hs += [ax.scatter(sizes, times, color=[color], label=cat)]\n",
    "        ax.format(xlabel='file size (MB)', ylabel='time (seconds)', gridminor=True,\n",
    "        # ax.format(xlabel='latitude count', ylabel='time (seconds)',\n",
    "                  ylim=(0, ymax) if scale=='linear' else (ymin, ymax), yscale=scale, yformatter='scalar',\n",
    "                  xlim=(min(sizes), max(sizes)), xscale=scale, xformatter='scalar',\n",
    "                  title=f'{scale.title()} scale', suptitle=f'{name.title()} benchmark on {server}')\n",
    "    f.bpanel.legend(hs, ncols=ncols, order='F')\n",
    "    return f\n",
    "\n",
    "def relative(name, dir_):\n",
    "    # Plot relative comparison\n",
    "    cats, nlats, sizes, tables = runtimes(name, dir_)\n",
    "    inco, = np.where(np.array([cat.lower() for cat in cats])=='nco')\n",
    "    inco = inco[0]\n",
    "    f, ax = plot.subplots(axwidth=2.5, aspect=(2,3), legend='b', span=False, share=1)\n",
    "    hs = []\n",
    "    ic, xc = 0, 0 # make xarray lines different shades of same color\n",
    "    ref = np.array([table[inco][3] for table in tables])\n",
    "    for i in idxs:\n",
    "        if i==inco:\n",
    "            continue\n",
    "        cat = cats[i]\n",
    "        if 'xarray' in cat.lower():\n",
    "            color = xcolors[xc]\n",
    "            xc += 1\n",
    "        else:\n",
    "            # color = f'C{ic}'\n",
    "            color = ocolors[ic]\n",
    "            ic += 1\n",
    "        times = [table[i][3] for table in tables] # 4th cell contains 'real' time\n",
    "        hs += ax.plot(sizes, np.array(times)/ref, color=color, marker='o', markersize=6, label=cat, lw=1)\n",
    "    ax.format(xlabel='file size (MB)', ylabel='ratio', gridminor=True,\n",
    "              ylim=(0.1, 3), yscale='log', yformatter='scalar',\n",
    "              xlim=(min(sizes), max(sizes)), xscale='log', xformatter='scalar',\n",
    "              suptitle=f'{name.title()} benchmark relative to NCO')\n",
    "    f.bpanel.legend(hs, ncols=2, order='F')\n",
    "    return f"
   ]
  },
  {
   "cell_type": "markdown",
   "metadata": {},
   "source": [
    "## Plots"
   ]
  },
  {
   "cell_type": "code",
   "execution_count": null,
   "metadata": {},
   "outputs": [],
   "source": [
    "f = benchmark('fluxes', '60lev', ymin=0.4, server='uriah')\n",
    "f.save('fluxes_macbook.png')"
   ]
  },
  {
   "cell_type": "code",
   "execution_count": null,
   "metadata": {},
   "outputs": [],
   "source": [
    "f = benchmark('fluxes', '60lev', ncols=2, ymin=0.4, ymax=100, server='cheyenne4')\n",
    "f.save('fluxes_cheyenne.png')"
   ]
  },
  {
   "cell_type": "code",
   "execution_count": null,
   "metadata": {},
   "outputs": [],
   "source": [
    "f = benchmark('slice', '60lev', ncols=4, ymin=0.05, ymax=8, server='uriah')\n",
    "f.save('slice.png')"
   ]
  },
  {
   "cell_type": "code",
   "execution_count": null,
   "metadata": {},
   "outputs": [],
   "source": [
    "f = benchmark('isentropes', '60lev', ncols=4, ymin=0.8, ymax=150, server='uriah')\n",
    "f.save('isentropes.png')"
   ]
  }
 ],
 "metadata": {
  "kernelspec": {
   "display_name": "Python 3",
   "language": "python",
   "name": "python3"
  },
  "language_info": {
   "codemirror_mode": {
    "name": "ipython",
    "version": 3
   },
   "file_extension": ".py",
   "mimetype": "text/x-python",
   "name": "python",
   "nbconvert_exporter": "python",
   "pygments_lexer": "ipython3",
   "version": "3.6.4"
  },
  "toc": {
   "colors": {
    "hover_highlight": "#ece260",
    "navigate_num": "#000000",
    "navigate_text": "#000000",
    "running_highlight": "#FF0000",
    "selected_highlight": "#fff968",
    "sidebar_border": "#ffffff",
    "wrapper_background": "#ffffff"
   },
   "moveMenuLeft": false,
   "nav_menu": {
    "height": "0px",
    "width": "250px"
   },
   "navigate_menu": true,
   "number_sections": true,
   "sideBar": true,
   "threshold": 4,
   "toc_cell": false,
   "toc_section_display": "block",
   "toc_window_display": true,
   "widenNotebook": false
  }
 },
 "nbformat": 4,
 "nbformat_minor": 2
}
